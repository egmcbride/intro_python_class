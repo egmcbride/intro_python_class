{
 "cells": [
  {
   "cell_type": "markdown",
   "metadata": {},
   "source": [
    "# Intro to NumPy\n",
    "\n",
    "-  [based on this numpy quickstart guide](https://docs.scipy.org/doc/numpy/user/quickstart.html)\n",
    "\n",
    "-  [full list of routines](https://docs.scipy.org/doc/numpy-dev/reference/routines.html#routines)"
   ]
  },
  {
   "cell_type": "code",
   "execution_count": 3,
   "metadata": {},
   "outputs": [],
   "source": [
    "# import numpy and other stuff for this tutorial\n",
    "import numpy as np\n",
    "from numpy import pi #can be easier if you're going to use something over and over again\n",
    "import matplotlib.pyplot as plt\n",
    "from scipy.stats import norm"
   ]
  },
  {
   "cell_type": "markdown",
   "metadata": {},
   "source": [
    "## initialize array and a few basic operations"
   ]
  },
  {
   "cell_type": "code",
   "execution_count": 4,
   "metadata": {},
   "outputs": [
    {
     "name": "stdout",
     "output_type": "stream",
     "text": [
      "[0 1 2 3 4 5 6 7 8 9]\n"
     ]
    },
    {
     "data": {
      "text/plain": [
       "(10,)"
      ]
     },
     "execution_count": 4,
     "metadata": {},
     "output_type": "execute_result"
    }
   ],
   "source": [
    "# set up an array and figure out shape...\n",
    "# \"array range\"\n",
    "my_array = np.arange(10)    # the interval includes `start` but excludes `stop`, overal interval [start...stop-1]\n",
    "print(my_array)\n",
    "my_array.shape     "
   ]
  },
  {
   "cell_type": "code",
   "execution_count": 9,
   "metadata": {
    "scrolled": true
   },
   "outputs": [
    {
     "name": "stdout",
     "output_type": "stream",
     "text": [
      "[[0 1 2 3 4]\n",
      " [5 6 7 8 9]]\n"
     ]
    },
    {
     "data": {
      "text/plain": [
       "(2, 5)"
      ]
     },
     "execution_count": 9,
     "metadata": {},
     "output_type": "execute_result"
    }
   ],
   "source": [
    "# reshape array\n",
    "my_array = np.arange(10)\n",
    "my_array = my_array.reshape(2,5) # why is (2,5) and (5,2) ok but (2,6) not ok? num elements must be the same\n",
    "# works for n dimensions\n",
    "print(my_array)\n",
    "my_array.shape   "
   ]
  },
  {
   "cell_type": "code",
   "execution_count": 12,
   "metadata": {},
   "outputs": [
    {
     "name": "stdout",
     "output_type": "stream",
     "text": [
      "[ 0  1  2  3  4  5  6  7  8  9 10 11 12 13 14 15 16 17 18 19 20 21 22 23\n",
      " 24 25 26 27 28 29 30 31 32 33 34 35 36 37 38 39 40 41]\n",
      "[[[ 0  1]\n",
      "  [ 2  3]\n",
      "  [ 4  5]]\n",
      "\n",
      " [[ 6  7]\n",
      "  [ 8  9]\n",
      "  [10 11]]\n",
      "\n",
      " [[12 13]\n",
      "  [14 15]\n",
      "  [16 17]]\n",
      "\n",
      " [[18 19]\n",
      "  [20 21]\n",
      "  [22 23]]\n",
      "\n",
      " [[24 25]\n",
      "  [26 27]\n",
      "  [28 29]]\n",
      "\n",
      " [[30 31]\n",
      "  [32 33]\n",
      "  [34 35]]\n",
      "\n",
      " [[36 37]\n",
      "  [38 39]\n",
      "  [40 41]]]\n"
     ]
    }
   ],
   "source": [
    "# neat trick...can also reshape with 'shape' and use a -1 which means 'whatever works' \n",
    "my_array = np.arange(42)\n",
    "print(my_array)\n",
    "my_array.shape = 7,3,2  #but you probably shouldn't do the -1 option\n",
    "#when there are 2 dimensions, the 1st is the \"layers\" \n",
    "my_array.shape\n",
    "print(my_array)"
   ]
  },
  {
   "cell_type": "markdown",
   "metadata": {},
   "source": [
    "## data types (and remember - strong typed language)"
   ]
  },
  {
   "cell_type": "code",
   "execution_count": 13,
   "metadata": {},
   "outputs": [
    {
     "name": "stdout",
     "output_type": "stream",
     "text": [
      "Dims of data:  3\n",
      "Size of each element (bytes):  4\n",
      "Total number of elements in array:  42\n",
      "Name of data type:  int32\n"
     ]
    }
   ],
   "source": [
    "print('Dims of data: ', my_array.ndim)              # number of dims\n",
    "print('Size of each element (bytes): ', my_array.itemsize)          # size of each element in bytes\n",
    "print('Total number of elements in array: ', my_array.size)         # total number of elements in array\n",
    "print('Name of data type: ', my_array.dtype.name)   # name of data type (float, int32, int64 etc)"
   ]
  },
  {
   "cell_type": "code",
   "execution_count": 16,
   "metadata": {},
   "outputs": [
    {
     "data": {
      "text/plain": [
       "'int32'"
      ]
     },
     "execution_count": 16,
     "metadata": {},
     "output_type": "execute_result"
    }
   ],
   "source": [
    "# will infer data type based on input values...here we have 1 float so the whole thing is float\n",
    "float_array = np.array([1,2,3])  \n",
    "float_array.dtype.name             # or np.dtype"
   ]
  },
  {
   "cell_type": "code",
   "execution_count": 17,
   "metadata": {},
   "outputs": [
    {
     "name": "stdout",
     "output_type": "stream",
     "text": [
      "(2, 3)\n"
     ]
    },
    {
     "data": {
      "text/plain": [
       "array([[1, 2, 3],\n",
       "       [6, 7, 8]], dtype=int64)"
      ]
     },
     "execution_count": 17,
     "metadata": {},
     "output_type": "execute_result"
    }
   ],
   "source": [
    "# good practice to specify the data type\n",
    "int_array = np.array([[1,2,3], [6,7,8]], dtype = 'int64')   # complex, float32, float64, int32, uint32 (unsigned int32), etc\n",
    "int_array.dtype\n",
    "print(int_array.shape)\n",
    "int_array"
   ]
  },
  {
   "cell_type": "markdown",
   "metadata": {},
   "source": [
    "<div class=\"alert alert-success\">\n",
    "what happens if you initialize with floating point numbers but you declare an int data type?\n",
    "</div>"
   ]
  },
  {
   "cell_type": "code",
   "execution_count": 18,
   "metadata": {},
   "outputs": [
    {
     "data": {
      "text/plain": [
       "array([[1, 2, 3],\n",
       "       [6, 7, 8]], dtype=int64)"
      ]
     },
     "execution_count": 18,
     "metadata": {},
     "output_type": "execute_result"
    }
   ],
   "source": [
    "# DOES NOT ROUND! gets rid of decimal\n",
    "int_array = np.array([[1.1,2.7,3.4], [6.9,7.5,8.2]], dtype = 'int64')   # complex, float32, float64, int32, uint32 (unsigned int32), etc\n",
    "int_array"
   ]
  },
  {
   "cell_type": "markdown",
   "metadata": {},
   "source": [
    "## Allocate arrays of zeros, ones or rand to reserve the memory before filling up later "
   ]
  },
  {
   "cell_type": "markdown",
   "metadata": {},
   "source": [
    "<div class=\"alert alert-info\">\n",
    "handy when you know what size you need, but you're not ready to fill it up yet...saves you from dynamically resizing the matrix during analysis, which is very slow\n",
    "</div>"
   ]
  },
  {
   "cell_type": "code",
   "execution_count": 19,
   "metadata": {},
   "outputs": [
    {
     "name": "stdout",
     "output_type": "stream",
     "text": [
      "Data type: float64\n",
      "Data type: int32\n",
      "[[0 0 0 0]\n",
      " [0 0 0 0]\n",
      " [0 0 0 0]]\n"
     ]
    }
   ],
   "source": [
    "# note the () around the dims because you specify as a tuple...default type is float64\n",
    "# Hence the extra parentheses\n",
    "zero_array = np.zeros( (3,4) )   \n",
    "print('Data type:', zero_array.dtype)\n",
    "\n",
    "# explicilty declare data type\n",
    "zero_array = np.zeros( (3,4), dtype=np.int32)   # \n",
    "print('Data type:', zero_array.dtype)\n",
    "print(zero_array)"
   ]
  },
  {
   "cell_type": "code",
   "execution_count": 20,
   "metadata": {},
   "outputs": [
    {
     "data": {
      "text/plain": [
       "array([[[1., 1., 1., 1.],\n",
       "        [1., 1., 1., 1.],\n",
       "        [1., 1., 1., 1.],\n",
       "        [1., 1., 1., 1.]],\n",
       "\n",
       "       [[1., 1., 1., 1.],\n",
       "        [1., 1., 1., 1.],\n",
       "        [1., 1., 1., 1.],\n",
       "        [1., 1., 1., 1.]],\n",
       "\n",
       "       [[1., 1., 1., 1.],\n",
       "        [1., 1., 1., 1.],\n",
       "        [1., 1., 1., 1.],\n",
       "        [1., 1., 1., 1.]],\n",
       "\n",
       "       [[1., 1., 1., 1.],\n",
       "        [1., 1., 1., 1.],\n",
       "        [1., 1., 1., 1.],\n",
       "        [1., 1., 1., 1.]]])"
      ]
     },
     "execution_count": 20,
     "metadata": {},
     "output_type": "execute_result"
    }
   ],
   "source": [
    "# ones\n",
    "# note the 3D output below...4, 4x4 squares of floating point 1s...\n",
    "np.ones( (4,4,4), dtype=np.float64 )           "
   ]
  },
  {
   "cell_type": "code",
   "execution_count": 21,
   "metadata": {},
   "outputs": [
    {
     "data": {
      "text/plain": [
       "array([[[0.   , 1.875],\n",
       "        [0.   , 1.875]],\n",
       "\n",
       "       [[0.   , 1.875],\n",
       "        [0.   , 0.   ]]], dtype=float32)"
      ]
     },
     "execution_count": 21,
     "metadata": {},
     "output_type": "execute_result"
    }
   ],
   "source": [
    "# and empty...not really 'empty' but initialized with varible output determined by current state of memory\n",
    "np.empty( (2,2,2), dtype = np.float32)"
   ]
  },
  {
   "cell_type": "markdown",
   "metadata": {},
   "source": [
    "## Can also create sequences of numbers using arange..."
   ]
  },
  {
   "cell_type": "code",
   "execution_count": 22,
   "metadata": {},
   "outputs": [
    {
     "name": "stdout",
     "output_type": "stream",
     "text": [
      "[0 1 2 3 4 5 6 7 8 9]\n"
     ]
    }
   ],
   "source": [
    "seq_array = np.arange(10)    # 0-9...remember - counting starts at 0! \n",
    "print(seq_array)"
   ]
  },
  {
   "cell_type": "code",
   "execution_count": 25,
   "metadata": {},
   "outputs": [
    {
     "name": "stdout",
     "output_type": "stream",
     "text": [
      "[ 0  5 10 15 20 25]\n"
     ]
    }
   ],
   "source": [
    "# can specify start, stop and step\n",
    "seq_array = np.arange(0,30,5)     # start, stop (stop at < X), step size\n",
    "print(seq_array)\n",
    "# note that 30 is not in there..."
   ]
  },
  {
   "cell_type": "code",
   "execution_count": 26,
   "metadata": {},
   "outputs": [
    {
     "name": "stdout",
     "output_type": "stream",
     "text": [
      "[0.  0.5 1.  1.5 2.  2.5 3.  3.5 4.  4.5 5.  5.5 6.  6.5 7.  7.5 8.  8.5\n",
      " 9.  9.5]\n"
     ]
    }
   ],
   "source": [
    "seq_array = np.arange(0,10,.5)    # decimal input is ok too (and again - stop is NOT included)\n",
    "print(seq_array)"
   ]
  },
  {
   "cell_type": "markdown",
   "metadata": {},
   "source": [
    "<div class=\"alert alert-info\">\n",
    "Because of machine precision issues, sometimes hard to predict how many elements will end up in an array when initialized using arange...so often better to specify a sequence based on start point, stop point, and the exact number of elements that you want (or the number of steps between start and stop). linspace (linear spacing) is the function to do this, and note that unlike arange that ends < stop point, linspace will always end exactly at the specified stop point. \n",
    "</div>"
   ]
  },
  {
   "cell_type": "code",
   "execution_count": 30,
   "metadata": {},
   "outputs": [
    {
     "name": "stdout",
     "output_type": "stream",
     "text": [
      "[ 0.   2.5  5.   7.5 10.  12.5 15.  17.5 20. ]\n"
     ]
    }
   ],
   "source": [
    "# start, stop, number of linearly spaced steps between start and stop...note that start AND stop included!\n",
    "lin_array = np.linspace(0,20,9) \n",
    "print(lin_array)"
   ]
  },
  {
   "cell_type": "markdown",
   "metadata": {},
   "source": [
    "## Common use of linspace in this class...eval a function over an interval. quick intro to basic plotting here too..."
   ]
  },
  {
   "cell_type": "code",
   "execution_count": 31,
   "metadata": {},
   "outputs": [
    {
     "data": {
      "image/png": "[encoded data removed]",
      "text/plain": [
       "<Figure size 432x288 with 1 Axes>"
      ]
     },
     "metadata": {
      "needs_background": "light"
     },
     "output_type": "display_data"
    },
    {
     "name": "stdout",
     "output_type": "stream",
     "text": [
      "  agg_filter: a filter function, which takes a (m, n, 3) float array and a dpi value, and returns a (m, n, 3) array \n",
      "  alpha: float (0.0 transparent through 1.0 opaque) \n",
      "  animated: bool \n",
      "  antialiased or aa: bool \n",
      "  clip_box: a `.Bbox` instance \n",
      "  clip_on: bool \n",
      "  clip_path: [(`~matplotlib.path.Path`, `.Transform`) | `.Patch` | None] \n",
      "  color or c: any matplotlib color \n",
      "  contains: a callable function \n",
      "  dash_capstyle: ['butt' | 'round' | 'projecting'] \n",
      "  dash_joinstyle: ['miter' | 'round' | 'bevel'] \n",
      "  dashes: sequence of on/off ink in points \n",
      "  drawstyle: ['default' | 'steps' | 'steps-pre' | 'steps-mid' | 'steps-post'] \n",
      "  figure: a `.Figure` instance \n",
      "  fillstyle: ['full' | 'left' | 'right' | 'bottom' | 'top' | 'none'] \n",
      "  gid: an id string \n",
      "  label: object \n",
      "  linestyle or ls: ['solid' | 'dashed', 'dashdot', 'dotted' | (offset, on-off-dash-seq) | ``'-'`` | ``'--'`` | ``'-.'`` | ``':'`` | ``'None'`` | ``' '`` | ``''``]\n",
      "  linewidth or lw: float value in points \n",
      "  marker: :mod:`A valid marker style <matplotlib.markers>`\n",
      "  markeredgecolor or mec: any matplotlib color \n",
      "  markeredgewidth or mew: float value in points \n",
      "  markerfacecolor or mfc: any matplotlib color \n",
      "  markerfacecoloralt or mfcalt: any matplotlib color \n",
      "  markersize or ms: float \n",
      "  markevery: [None | int | length-2 tuple of int | slice | list/array of int | float | length-2 tuple of float]\n",
      "  path_effects: `.AbstractPathEffect` \n",
      "  picker: float distance in points or callable pick function ``fn(artist, event)`` \n",
      "  pickradius: float distance in points\n",
      "  rasterized: bool or None \n",
      "  sketch_params: (scale: float, length: float, randomness: float) \n",
      "  snap: bool or None \n",
      "  solid_capstyle: ['butt' | 'round' |  'projecting'] \n",
      "  solid_joinstyle: ['miter' | 'round' | 'bevel'] \n",
      "  transform: a :class:`matplotlib.transforms.Transform` instance \n",
      "  url: a url string \n",
      "  visible: bool \n",
      "  xdata: 1D array \n",
      "  ydata: 1D array \n",
      "  zorder: float \n"
     ]
    }
   ],
   "source": [
    "lin_array = np.linspace(0, 2*pi, 360)\n",
    "sin_wave = np.sin(lin_array)\n",
    "\n",
    "# plotting\n",
    "\n",
    "h = plt.plot(lin_array*180/pi, sin_wave, 'r-', linewidth = 4)    # specify x,y data...convert rad to deg for x-axis\n",
    "\n",
    "# label each axis and give it a title\n",
    "plt.xlabel('angle (deg)')\n",
    "plt.ylabel('Amplitude')\n",
    "plt.title('Sin Wave')\n",
    "plt.grid(1)\n",
    "plt.show()\n",
    "\n",
    "# figure out all settings to tweak...\n",
    "plt.setp(h) \n",
    "\n"
   ]
  },
  {
   "cell_type": "markdown",
   "metadata": {},
   "source": [
    "## initializing arrays with random numbers...use np.random.rand and np.random.randn"
   ]
  },
  {
   "cell_type": "code",
   "execution_count": 35,
   "metadata": {},
   "outputs": [
    {
     "name": "stdout",
     "output_type": "stream",
     "text": [
      "[[0.76702114 0.96951466 0.70502297 0.99281336 0.9391256  0.00872895\n",
      "  0.58776944 0.62105284 0.19025105 0.34691765 0.669263   0.20981765\n",
      "  0.78441009 0.01165966 0.58200541 0.67548744]]\n",
      "[[1. 1. 1. 1. 1. 0. 1. 1. 0. 0. 1. 0. 1. 0. 1. 1.]]\n"
     ]
    }
   ],
   "source": [
    "rand_array = np.random.rand(1,16)   # drawn from uniform over [0,1]\n",
    "x=np.round(rand_array)\n",
    "print(rand_array)\n",
    "print(x)"
   ]
  },
  {
   "cell_type": "code",
   "execution_count": 33,
   "metadata": {},
   "outputs": [
    {
     "name": "stdout",
     "output_type": "stream",
     "text": [
      "[[ 1.38508848 -0.2820958   1.17728042  0.46000438  0.57129634  0.3874216 ]\n",
      " [-0.59617629  0.41395999  0.77468722  0.84747972 -0.90338081  0.79286218]]\n"
     ]
    }
   ],
   "source": [
    "rand_array = np.random.randn(2,6)   # drawn from normal with mean 0 and variance 1\n",
    "print(rand_array)"
   ]
  },
  {
   "cell_type": "markdown",
   "metadata": {},
   "source": [
    "## use randn to generate draws from a normal distribtion with mean = mu and variance = sig and then plot..."
   ]
  },
  {
   "cell_type": "code",
   "execution_count": 39,
   "metadata": {},
   "outputs": [
    {
     "data": {
      "image/png": "[encoded data removed]",
      "text/plain": [
       "<Figure size 432x288 with 1 Axes>"
      ]
     },
     "metadata": {
      "needs_background": "light"
     },
     "output_type": "display_data"
    }
   ],
   "source": [
    "# shift the mean and scale the variance for a N(mu,var)\n",
    "samples = 1000\n",
    "mu = 4\n",
    "sig = 2\n",
    "\n",
    "# generate the array of rand numbers \n",
    "rand_array = (sig * np.random.randn(samples,1)) + mu   # drawn from normal with mean mu and variance sig\n",
    "rand_array\n",
    "\n",
    "# plot\n",
    "num_bins = 30\n",
    "\n",
    "fig, ax = plt.subplots()\n",
    "\n",
    "# generate the histogram\n",
    "n, bins, patches = ax.hist(rand_array, num_bins, density=1)\n",
    "\n",
    "# generate a pdf evaled at 'bins' to draw a smooth function - this works because we used randn to generate the data\n",
    "y = norm.pdf(bins, mu, sig)\n",
    "ax.plot(bins, y, 'k--', linewidth = 6)\n",
    "ax.set_xlabel('Random Variable')\n",
    "ax.set_ylabel('Probability density')\n",
    "ax.set_title('Histo of random variable with $\\mu=mu$, $\\sigma=sig$')\n",
    "\n",
    "# show the plot\n",
    "plt.show()\n"
   ]
  },
  {
   "cell_type": "markdown",
   "metadata": {},
   "source": [
    "## Simple elementwise arithmetic operations like + and - work on corresponding elements of arrays. More on linear algebra in separate tutorial"
   ]
  },
  {
   "cell_type": "code",
   "execution_count": 40,
   "metadata": {},
   "outputs": [
    {
     "name": "stdout",
     "output_type": "stream",
     "text": [
      "[0.00000000e+00 8.93507819e-07 7.14773412e-06 2.41217554e-05\n",
      " 5.71713644e-05 1.11647430e-04 1.92894258e-04 3.06247954e-04\n",
      " 4.57034788e-04 6.50569566e-04 8.92153998e-04 1.18707508e-03\n",
      " 1.54060346e-03 1.95799185e-03 2.44447338e-03 3.00526004e-03\n",
      " 3.64554105e-03 4.37048126e-03 5.18521963e-03 6.09486758e-03\n",
      " 7.10450746e-03 8.21919102e-03 9.44393780e-03 1.07837336e-02\n",
      " 1.22435291e-02 1.38282382e-02 1.55427363e-02 1.73918593e-02\n",
      " 1.93804018e-02 2.15131157e-02 2.37947088e-02 2.62298430e-02\n",
      " 2.88231336e-02 3.15791472e-02 3.45024005e-02 3.75973591e-02\n",
      " 4.08684361e-02 4.43199904e-02 4.79563258e-02 5.17816895e-02\n",
      " 5.58002707e-02 6.00161994e-02 6.44335453e-02 6.90563163e-02\n",
      " 7.38884574e-02 7.89338494e-02 8.41963080e-02 8.96795821e-02\n",
      " 9.53873531e-02 1.01323234e-01 1.07490767e-01 1.13893424e-01\n",
      " 1.20534606e-01 1.27417638e-01 1.34545773e-01 1.41922190e-01\n",
      " 1.49549989e-01 1.57432195e-01 1.65571754e-01 1.73971536e-01\n",
      " 1.82634326e-01 1.91562834e-01 2.00759685e-01 2.10227422e-01\n",
      " 2.19968508e-01 2.29985319e-01 2.40280148e-01 2.50855202e-01\n",
      " 2.61712604e-01 2.72854388e-01 2.84282503e-01 2.95998809e-01\n",
      " 3.08005078e-01 3.20302994e-01 3.32894151e-01 3.45780053e-01\n",
      " 3.58962113e-01 3.72441656e-01 3.86219913e-01 4.00298025e-01\n",
      " 4.14677040e-01 4.29357915e-01 4.44341514e-01 4.59628609e-01\n",
      " 4.75219878e-01 4.91115906e-01 5.07317185e-01 5.23824114e-01\n",
      " 5.40636997e-01 5.57756045e-01 5.75181376e-01 5.92913013e-01\n",
      " 6.10950886e-01 6.29294830e-01 6.47944588e-01 6.66899808e-01\n",
      " 6.86160045e-01 7.05724760e-01 7.25593321e-01 7.45765004e-01\n",
      " 7.66238990e-01 7.87014370e-01 8.08090141e-01 8.29465207e-01\n",
      " 8.51138383e-01 8.73108391e-01 8.95373862e-01 9.17933337e-01\n",
      " 9.40785267e-01 9.63928013e-01 9.87359848e-01 1.01107895e+00\n",
      " 1.03508343e+00 1.05937128e+00 1.08394042e+00 1.10878870e+00\n",
      " 1.13391387e+00 1.15931357e+00 1.18498541e+00 1.21092687e+00\n",
      " 1.23713537e+00 1.26360825e+00 1.29034275e+00 1.31733605e+00\n",
      " 1.34458524e+00 1.37208733e+00 1.39983926e+00 1.42783790e+00\n",
      " 1.45608002e+00 1.48456234e+00 1.51328149e+00 1.54223404e+00\n",
      " 1.57141648e+00 1.60082523e+00 1.63045665e+00 1.66030702e+00\n",
      " 1.69037255e+00 1.72064940e+00 1.75113366e+00 1.78182134e+00\n",
      " 1.81270842e+00 1.84379078e+00 1.87506428e+00 1.90652468e+00\n",
      " 1.93816773e+00 1.96998908e+00 2.00198434e+00 2.03414909e+00\n",
      " 2.06647882e+00 2.09896900e+00 2.13161504e+00 2.16441229e+00\n",
      " 2.19735607e+00 2.23044165e+00 2.26366426e+00 2.29701908e+00\n",
      " 2.33050126e+00 2.36410590e+00 2.39782806e+00 2.43166279e+00\n",
      " 2.46560508e+00 2.49964988e+00 2.53379215e+00 2.56802677e+00\n",
      " 2.60234862e+00 2.63675255e+00 2.67123338e+00 2.70578592e+00\n",
      " 2.74040493e+00 2.77508518e+00 2.80982141e+00 2.84460833e+00\n",
      " 2.87944065e+00 2.91431306e+00 2.94922025e+00 2.98415687e+00\n",
      " 3.01911759e+00 3.05409707e+00 3.08908994e+00 3.12409086e+00\n",
      " 3.15909445e+00 3.19409536e+00 3.22908824e+00 3.26406771e+00\n",
      " 3.29902844e+00 3.33396506e+00 3.36887225e+00 3.40374466e+00\n",
      " 3.43857698e+00 3.47336390e+00 3.50810012e+00 3.54278037e+00\n",
      " 3.57739939e+00 3.61195193e+00 3.64643276e+00 3.68083669e+00\n",
      " 3.71515854e+00 3.74939316e+00 3.78353542e+00 3.81758023e+00\n",
      " 3.85152252e+00 3.88535724e+00 3.91907941e+00 3.95268405e+00\n",
      " 3.98616623e+00 4.01952105e+00 4.05274366e+00 4.08582924e+00\n",
      " 4.11877302e+00 4.15157027e+00 4.18421630e+00 4.21670648e+00\n",
      " 4.24903622e+00 4.28120096e+00 4.31319623e+00 4.34501758e+00\n",
      " 4.37666062e+00 4.40812103e+00 4.43939453e+00 4.47047689e+00\n",
      " 4.50136397e+00 4.53205165e+00 4.56253591e+00 4.59281276e+00\n",
      " 4.62287829e+00 4.65272866e+00 4.68236007e+00 4.71176882e+00\n",
      " 4.74095126e+00 4.76990381e+00 4.79862297e+00 4.82710528e+00\n",
      " 4.85534741e+00 4.88334604e+00 4.91109798e+00 4.93860007e+00\n",
      " 4.96584926e+00 4.99284256e+00 5.01957706e+00 5.04604993e+00\n",
      " 5.07225844e+00 5.09819990e+00 5.12387173e+00 5.14927144e+00\n",
      " 5.17439660e+00 5.19924488e+00 5.22381403e+00 5.24810188e+00\n",
      " 5.27210635e+00 5.29582546e+00 5.31925729e+00 5.34240004e+00\n",
      " 5.36525197e+00 5.38781145e+00 5.41007692e+00 5.43204692e+00\n",
      " 5.45372010e+00 5.47509517e+00 5.49617094e+00 5.51694632e+00\n",
      " 5.53742030e+00 5.55759199e+00 5.57746055e+00 5.59702526e+00\n",
      " 5.61628550e+00 5.63524072e+00 5.65389048e+00 5.67223442e+00\n",
      " 5.69027229e+00 5.70800393e+00 5.72542926e+00 5.74254831e+00\n",
      " 5.75936119e+00 5.77586812e+00 5.79206940e+00 5.80796543e+00\n",
      " 5.82355670e+00 5.83884379e+00 5.85382739e+00 5.86850827e+00\n",
      " 5.88288728e+00 5.89696539e+00 5.91074365e+00 5.92422319e+00\n",
      " 5.93740525e+00 5.95029116e+00 5.96288231e+00 5.97518023e+00\n",
      " 5.98718650e+00 5.99890280e+00 6.01033092e+00 6.02147270e+00\n",
      " 6.03233010e+00 6.04290516e+00 6.05319999e+00 6.06321680e+00\n",
      " 6.07295788e+00 6.08242562e+00 6.09162247e+00 6.10055098e+00\n",
      " 6.10921377e+00 6.11761355e+00 6.12575311e+00 6.13363532e+00\n",
      " 6.14126312e+00 6.14863953e+00 6.15576767e+00 6.16265070e+00\n",
      " 6.16929188e+00 6.17569454e+00 6.18186207e+00 6.18779795e+00\n",
      " 6.19350573e+00 6.19898900e+00 6.20425146e+00 6.20929685e+00\n",
      " 6.21412899e+00 6.21875176e+00 6.22316911e+00 6.22738504e+00\n",
      " 6.23140362e+00 6.23522898e+00 6.23886532e+00 6.24231687e+00\n",
      " 6.24558795e+00 6.24868291e+00 6.25160616e+00 6.25436217e+00\n",
      " 6.25695546e+00 6.25939060e+00 6.26167219e+00 6.26380491e+00\n",
      " 6.26579345e+00 6.26764257e+00 6.26935707e+00 6.27094178e+00\n",
      " 6.27240157e+00 6.27374137e+00 6.27496612e+00 6.27608080e+00\n",
      " 6.27709044e+00 6.27800009e+00 6.27881483e+00 6.27953977e+00\n",
      " 6.28018005e+00 6.28074083e+00 6.28122732e+00 6.28164470e+00\n",
      " 6.28199823e+00 6.28229315e+00 6.28253474e+00 6.28272827e+00\n",
      " 6.28287906e+00 6.28299241e+00 6.28307366e+00 6.28312814e+00\n",
      " 6.28316119e+00 6.28317816e+00 6.28318441e+00 6.28318531e+00]\n"
     ]
    },
    {
     "data": {
      "image/png": "[encoded data removed]",
      "text/plain": [
       "<Figure size 432x288 with 3 Axes>"
      ]
     },
     "metadata": {
      "needs_background": "light"
     },
     "output_type": "display_data"
    }
   ],
   "source": [
    "x = np.linspace(0,2*pi,360)\n",
    "y = np.sin(x)\n",
    "\n",
    "print(x-y)\n",
    "\n",
    "plt.subplot(3, 1, 1)\n",
    "plt.plot(x, x, 'k--')\n",
    "plt.title('X')\n",
    "plt.ylabel('Amplitude')\n",
    "\n",
    "plt.subplot(3, 1, 2)\n",
    "plt.plot(x, y, 'k--')\n",
    "plt.title('Y')\n",
    "plt.xlabel('angle')\n",
    "plt.ylabel('Amplitude')\n",
    "\n",
    "plt.subplot(3, 1, 3)\n",
    "plt.plot(x, x-y, 'k--')\n",
    "plt.title('X-Y')\n",
    "plt.xlabel('angle')\n",
    "plt.ylabel('Amplitude')\n",
    "\n",
    "plt.show()"
   ]
  },
  {
   "cell_type": "markdown",
   "metadata": {},
   "source": [
    "## Some operations that can modify an existing array\n"
   ]
  },
  {
   "cell_type": "code",
   "execution_count": 41,
   "metadata": {},
   "outputs": [
    {
     "name": "stdout",
     "output_type": "stream",
     "text": [
      "[[4. 4. 4. 4. 4. 4. 4. 4. 4. 4.]]\n",
      "[[8. 8. 8. 8. 8. 8. 8. 8. 8. 8.]]\n"
     ]
    }
   ],
   "source": [
    "x = np.ones( (1,10) )\n",
    "\n",
    "# then some C style stuff...\n",
    "x += 3\n",
    "print(x)\n",
    "\n",
    "# note that it builds...so the x+=3 modifies x\n",
    "x *= 2\n",
    "print(x)"
   ]
  },
  {
   "cell_type": "markdown",
   "metadata": {},
   "source": [
    "<div class=\"alert alert-info\">\n",
    "when dealing with muliple arrays of different data types, resulting array will take the form of the highest precision input array (upcasting)!\n",
    "</div>"
   ]
  },
  {
   "cell_type": "code",
   "execution_count": 42,
   "metadata": {},
   "outputs": [
    {
     "name": "stdout",
     "output_type": "stream",
     "text": [
      "x data type:  int32\n",
      "y data type:  float64\n",
      "[[ -0.          -0.51474794   1.09372172  -1.95140514  -2.31859699\n",
      "   -1.50479744 -10.81315881  -0.55966544   2.50260124  15.62730263]]\n",
      "z data type:  float64\n"
     ]
    }
   ],
   "source": [
    "x = np.arange(10, dtype='int32')\n",
    "print('x data type: ', x.dtype)\n",
    "\n",
    "y = np.random.randn(1,10)\n",
    "print('y data type: ', y.dtype)\n",
    "\n",
    "# now multiply the int32 array with the float64 array and answer should be the higher precision of the two (float64)\n",
    "z = x * y \n",
    "print(z)\n",
    "print('z data type: ', z.dtype)"
   ]
  },
  {
   "cell_type": "markdown",
   "metadata": {},
   "source": [
    "## Unary operations implemented as methods of the ndarray class"
   ]
  },
  {
   "cell_type": "code",
   "execution_count": 44,
   "metadata": {},
   "outputs": [
    {
     "name": "stdout",
     "output_type": "stream",
     "text": [
      "[[0 1 2 3 4]\n",
      " [5 6 7 8 9]]\n",
      "45\n",
      "[ 5  7  9 11 13]\n",
      "[10 35]\n",
      "[ 5  7  9 11 13]\n"
     ]
    }
   ],
   "source": [
    "x = np.arange(10).reshape(2,5)   # 2 x 5 matrix\n",
    "print(x)\n",
    "print(x.sum())                          # sum of all elements\n",
    "print(x.sum(axis=0))             # sum of each column (across 1st dim)\n",
    "print(x.sum(axis=1))             # sum of each row (across 2nd dim)\n",
    "print(x.sum(0))                  # don't need the axis arg BUT it's nice to put there for readability"
   ]
  },
  {
   "cell_type": "markdown",
   "metadata": {},
   "source": [
    "## Other common operations..."
   ]
  },
  {
   "cell_type": "code",
   "execution_count": 45,
   "metadata": {},
   "outputs": [
    {
     "name": "stdout",
     "output_type": "stream",
     "text": [
      "0.011157804573861063\n",
      "[0.02355804 0.0111578  0.01465048]\n",
      "[0.44724083 0.92869508 0.68878346 0.978174   0.63062324 0.94942001\n",
      " 0.91273559 0.15932921 0.82632845 0.77220006 0.68048056 0.99308898]\n",
      "[[2.45683918e-01 1.15346064e-02 5.15874692e-03]\n",
      " [9.28695077e-01 1.03621982e-02 5.05737525e-03]\n",
      " [6.84681477e-02 2.60303063e-02 1.79292443e-02]\n",
      " [9.78174000e-01 1.93827477e-01 1.72759893e-01]\n",
      " [6.30623236e-01 2.55368910e-01 1.32779007e-01]\n",
      " [2.80943634e-01 2.66733508e-01 6.93076872e-02]\n",
      " [5.82028421e-02 1.77498518e-02 1.62009215e-02]\n",
      " [1.59329208e-01 1.20646928e-02 1.76753505e-04]\n",
      " [7.49465306e-01 1.57097572e-01 1.29814193e-01]\n",
      " [6.46043438e-02 4.98874784e-02 2.72745517e-02]\n",
      " [2.35580446e-02 1.20950903e-02 8.23047385e-03]\n",
      " [9.93088980e-01 5.01753295e-01 2.87377994e-01]]\n"
     ]
    },
    {
     "data": {
      "image/png": "[encoded data removed]",
      "text/plain": [
       "<Figure size 432x288 with 1 Axes>"
      ]
     },
     "metadata": {
      "needs_background": "light"
     },
     "output_type": "display_data"
    }
   ],
   "source": [
    "x = np.random.rand(12,3)  \n",
    "print(x.min())           # min of entire matrix\n",
    "print(x.min(0))          # min across 1st dim\n",
    "print(x.max(1))          # max across 2nd dim\n",
    "print(x.cumprod(1))      # cumulative product across 2nd dim\n",
    "y = x.cumsum(0)          # cumulative sum across 1st dim\n",
    "\n",
    "r,c = y.shape\n",
    "plt.plot(np.arange(r), y, 'r-', linewidth = 4)    \n",
    "plt.xlabel('count')\n",
    "plt.ylabel('cumulative sum')\n",
    "plt.title('Cumulative sum down columns')\n",
    "plt.show() "
   ]
  },
  {
   "cell_type": "markdown",
   "metadata": {},
   "source": [
    "## Universal functions...sin, exp, corrcoef, etc"
   ]
  },
  {
   "cell_type": "code",
   "execution_count": 46,
   "metadata": {},
   "outputs": [
    {
     "name": "stdout",
     "output_type": "stream",
     "text": [
      "[1.00000000e+00 1.36389534e+00 1.86021050e+00 2.53713244e+00\n",
      " 3.46038312e+00 4.71960041e+00 6.43704102e+00 8.77945026e+00\n",
      " 1.19742513e+01 1.63316256e+01 2.22746281e+01 3.03802615e+01\n",
      " 4.14354971e+01 5.65136815e+01 7.70787469e+01 1.05127344e+02\n",
      " 1.43382695e+02 1.95558989e+02 2.66721994e+02 3.63780886e+02\n",
      " 4.96159055e+02 6.76709025e+02 9.22960286e+02 1.25882124e+03\n",
      " 1.71690042e+03 2.34167248e+03 3.19379619e+03 4.35600375e+03\n",
      " 5.94113322e+03 8.10308393e+03]\n",
      "[0.         0.55708601 0.7878386  0.96490128 1.11417203 1.2456822\n",
      " 1.36457648 1.47391105 1.57567719 1.67125804 1.76166066 1.84764529\n",
      " 1.92980256 2.00860219 2.084425   2.15758486 2.22834406 2.29692448\n",
      " 2.36351579 2.42828164 2.4913644  2.55288883 2.61296502 2.67169067\n",
      " 2.72915296 2.78543007 2.84059246 2.89470384 2.94782211 3.        ]\n",
      "[ 2.          2.62068966  3.24137931  3.86206897  4.48275862  5.10344828\n",
      "  5.72413793  6.34482759  6.96551724  7.5862069   8.20689655  8.82758621\n",
      "  9.44827586 10.06896552 10.68965517 11.31034483 11.93103448 12.55172414\n",
      " 13.17241379 13.79310345 14.4137931  15.03448276 15.65517241 16.27586207\n",
      " 16.89655172 17.51724138 18.13793103 18.75862069 19.37931034 20.        ]\n",
      "[[1.         0.65255711]\n",
      " [0.65255711 1.        ]]\n"
     ]
    },
    {
     "data": {
      "image/png": "[encoded data removed]",
      "text/plain": [
       "<Figure size 432x288 with 1 Axes>"
      ]
     },
     "metadata": {
      "needs_background": "light"
     },
     "output_type": "display_data"
    }
   ],
   "source": [
    "N = 30\n",
    "x = np.linspace(0,9,N)\n",
    "\n",
    "print(np.exp(x))\n",
    "print(np.sqrt(x))\n",
    "print(np.add(x, x+2))                 # add two same-sized arrays\n",
    "y = x + np.random.randn(1,len(x))*3   # make a second vector x + some randn noise \n",
    "print(np.corrcoef(x, y))              # correlation matrix\n",
    "\n",
    "plt.scatter(x, y, s=50, c='green', alpha=1, label=\"X vs Y\")  # note alpha or transparency\n",
    "plt.xlabel(\"X\")\n",
    "plt.ylabel(\"Y\")\n",
    "plt.legend(loc=2)   # 1-4 for each corner of the plot\n",
    "plt.show()\n",
    "\n",
    "# all, any, apply_along_axis, argmax, argmin, argsort, average, ...\n",
    "# bincount, ceil, clip, conj, corrcoef, cov, cross, cumprod, cumsum, ...\n",
    "# diff, dot, floor, inner, inv, lexsort, max, maximum, mean, median, ...\n",
    "# min, minimum, nonzero, outer, prod, re, round, sort, std, sum, trace, ...\n",
    "# transpose, var, vdot, vectorize, where"
   ]
  },
  {
   "cell_type": "markdown",
   "metadata": {},
   "source": [
    "## Set logic...."
   ]
  },
  {
   "cell_type": "code",
   "execution_count": 48,
   "metadata": {},
   "outputs": [
    {
     "name": "stdout",
     "output_type": "stream",
     "text": [
      "[ 0  1  2  3  4  5  6  7  8  9 10 11 12 13 14 15 16 17 18 19]\n",
      "[10. 11. 12. 13. 14. 15. 16. 17. 18. 19. 20. 21. 22. 23. 24. 25. 26. 27.\n",
      " 28. 29. 30.]\n",
      "[ 0.  1.  2.  3.  4.  5.  6.  7.  8.  9. 10. 11. 12. 13. 14. 15. 16. 17.\n",
      " 18. 19. 20. 21. 22. 23. 24. 25. 26. 27. 28. 29. 30.]\n",
      "[10. 11. 12. 13. 14. 15. 16. 17. 18. 19.]\n",
      "[ 0.  1.  2.  3.  4.  5.  6.  7.  8.  9. 10. 11. 12. 13. 14. 15. 16. 17.\n",
      " 18. 19. 20. 21. 22. 23. 24. 25. 26. 27. 28. 29. 30.]\n"
     ]
    }
   ],
   "source": [
    "x = np.arange(20)\n",
    "y = np.linspace(10, 30, 21)\n",
    "print(x)\n",
    "print(y)\n",
    "\n",
    "z = np.union1d(x,y)\n",
    "print(z)\n",
    "\n",
    "z = np.intersect1d(x,y)\n",
    "print(z)\n",
    "\n",
    "z = np.unique([np.append(x,y)])\n",
    "print(z)"
   ]
  },
  {
   "cell_type": "markdown",
   "metadata": {},
   "source": [
    "## Shape manipulation"
   ]
  },
  {
   "cell_type": "code",
   "execution_count": 50,
   "metadata": {
    "scrolled": true
   },
   "outputs": [
    {
     "name": "stdout",
     "output_type": "stream",
     "text": [
      "[[ 1. -1. 10.  1.  0. -1. -2. -7.]\n",
      " [-5.  5. -1.  3.  8. -3. 11.  3.]\n",
      " [ 0. -5.  6. -0. -4.  0. -3. -3.]\n",
      " [ 2.  2.  5.  7. 12. -8. -4.  3.]\n",
      " [-1.  4. -2. -3.  1. -1.  5.  4.]\n",
      " [-5. -1.  5. -0. -2.  1. -2. -2.]]\n",
      "[ 1. -1. 10.  1.  0. -1. -2. -7. -5.  5. -1.  3.  8. -3. 11.  3.  0. -5.\n",
      "  6. -0. -4.  0. -3. -3.  2.  2.  5.  7. 12. -8. -4.  3. -1.  4. -2. -3.\n",
      "  1. -1.  5.  4. -5. -1.  5. -0. -2.  1. -2. -2.]\n",
      "Shape of x:  (6, 8) \n",
      "Shape of flattened x: (48,)\n",
      "[[ 1.  0. -5.  8.  0. -4.  2. 12. -1.  1. -5. -2.]\n",
      " [-1. -1.  5. -3. -5.  0.  2. -8.  4. -1. -1.  1.]\n",
      " [10. -2. -1. 11.  6. -3.  5. -4. -2.  5.  5. -2.]\n",
      " [ 1. -7.  3.  3. -0. -3.  7.  3. -3.  4. -0. -2.]]\n",
      "Reshaped x:  (12, 4) \n",
      "Reshaped x transposed:  (4, 12)\n"
     ]
    }
   ],
   "source": [
    "x = np.round(np.random.randn(6,8)*5)   # generate some random data from N(0,5), then round \n",
    "print(x)\n",
    "# flatten the array\n",
    "y = x.ravel()\n",
    "print(y)\n",
    "print('Shape of x: ', x.shape, '\\nShape of flattened x:', y.shape)  # newline example + multiple outputs...\n",
    "\n",
    "# reshape\n",
    "x = x.reshape(12,4)   # 48 element array reshaped from a 6x8 to a 12x4\n",
    "\n",
    "# transpose - swap row/column\n",
    "print(x.T)\n",
    "print('Reshaped x: ', x.shape, '\\nReshaped x transposed: ', x.T.shape)"
   ]
  },
  {
   "cell_type": "markdown",
   "metadata": {},
   "source": [
    "## Concatenating arrays (stacking)"
   ]
  },
  {
   "cell_type": "code",
   "execution_count": 51,
   "metadata": {},
   "outputs": [
    {
     "name": "stdout",
     "output_type": "stream",
     "text": [
      "shape of z after vert stacking x,y:  (10, 6)\n",
      "shape of z after horizontal stacking x,y:  (5, 12)\n",
      "shape of z after vertical concat x,y:  (10, 6)\n",
      "shape of z after horizontal concat x,y:  (5, 12)\n"
     ]
    }
   ],
   "source": [
    "# use floor and ceil to make two 5x6 arrays of rand numbers\n",
    "x = np.floor(np.random.rand(5,6)*10)\n",
    "y = np.ceil(np.random.rand(5,6)*2)\n",
    "\n",
    "# vertical stacking of arrays...will make a 10x6\n",
    "z = np.vstack((x,y))\n",
    "print('shape of z after vert stacking x,y: ', z.shape)\n",
    "\n",
    "# horizontal stacking of arrays...will make a 5x12\n",
    "z = np.hstack((x,y))\n",
    "print('shape of z after horizontal stacking x,y: ', z.shape)\n",
    "\n",
    "# concatenate allows stacking along specified dim\n",
    "z = np.concatenate((x,y),axis=0)   # vstack - stack rows on top of each other\n",
    "print('shape of z after vertical concat x,y: ', z.shape)\n",
    "\n",
    "z = np.concatenate((x,y),axis=1)   # hstack - stack columns next to each other\n",
    "print('shape of z after horizontal concat x,y: ', z.shape)\n"
   ]
  },
  {
   "cell_type": "markdown",
   "metadata": {},
   "source": [
    "## References and reasignments...this is important because failure to understand this can have unintended consequences "
   ]
  },
  {
   "cell_type": "code",
   "execution_count": 52,
   "metadata": {},
   "outputs": [
    {
     "name": "stdout",
     "output_type": "stream",
     "text": [
      "(12,)\n",
      "True\n",
      "(3, 4)\n"
     ]
    }
   ],
   "source": [
    "x = np.arange(12)\n",
    "print(x.shape)\n",
    "y = x                   # creates another name to refer to x\n",
    "print(y is x)           # y and x are the same object, so true\n",
    "\n",
    "y.shape = 3,4    # because y is another name for x, this changes shape of x\n",
    "print(x.shape)   # now x is a different size...  "
   ]
  },
  {
   "cell_type": "markdown",
   "metadata": {},
   "source": [
    "## if you want to make a new object that looks at the same data but that is not simply a reference to the same object (i.e. create a new 'view' of the data)"
   ]
  },
  {
   "cell_type": "code",
   "execution_count": 53,
   "metadata": {},
   "outputs": [
    {
     "name": "stdout",
     "output_type": "stream",
     "text": [
      "False\n",
      "True\n",
      "Shape of x:  (10,)  Shape of y:  (2, 5)\n",
      "1000.0\n"
     ]
    }
   ],
   "source": [
    "x = np.linspace(0,9,10)\n",
    "\n",
    "y = x.view()\n",
    "\n",
    "print(y is x)        # no...\n",
    "\n",
    "print(y.base is x)   # yes, because looking at the same data. \n",
    "\n",
    "# so you can change the shape of y and not affect x\n",
    "y.shape = 2,5\n",
    "print('Shape of x: ', x.shape, ' Shape of y: ', y.shape)\n",
    "\n",
    "# but since the data is shared, changing data in y changes data in x\n",
    "y[0,0] = 1000\n",
    "print(x[0,])"
   ]
  },
  {
   "cell_type": "markdown",
   "metadata": {},
   "source": [
    "## Deep copy - make a complete copy of an array and its data...not just a view"
   ]
  },
  {
   "cell_type": "markdown",
   "metadata": {},
   "source": [
    "<div class=\"alert alert-warning\">\n",
    "changing the copy will NOT change the original...and this is often a very desirable feature!\n",
    "</div>"
   ]
  },
  {
   "cell_type": "code",
   "execution_count": 54,
   "metadata": {},
   "outputs": [
    {
     "name": "stdout",
     "output_type": "stream",
     "text": [
      "False\n",
      "False\n",
      "[1000.    1.    2.    3.    4.    5.    6.    7.    8.    9.]\n"
     ]
    }
   ],
   "source": [
    "z = x.copy()\n",
    "print(z is x)       # not the same\n",
    "print(z.base is x)  # does not share the same data\n",
    "\n",
    "z[0] = -999         # since z is an independent copy, changing the data in z does not change x\n",
    "\n",
    "print(x)"
   ]
  }
 ],
 "metadata": {
  "kernelspec": {
   "display_name": "Python 3",
   "language": "python",
   "name": "python3"
  },
  "language_info": {
   "codemirror_mode": {
    "name": "ipython",
    "version": 3
   },
   "file_extension": ".py",
   "mimetype": "text/x-python",
   "name": "python",
   "nbconvert_exporter": "python",
   "pygments_lexer": "ipython3",
   "version": "3.7.0"
  }
 },
 "nbformat": 4,
 "nbformat_minor": 2
}
